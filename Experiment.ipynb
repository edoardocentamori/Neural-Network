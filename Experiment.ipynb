{
 "cells": [
  {
   "cell_type": "code",
   "execution_count": 1,
   "metadata": {
    "collapsed": true
   },
   "outputs": [],
   "source": [
    "import pdb, time\n",
    "import numpy as np\n",
    "import pandas as pd\n",
    "import matplotlib.pyplot as plt\n",
    "from sklearn.model_selection import train_test_split\n",
    "%matplotlib inline\n",
    "import sklearn.preprocessing as preprocessing\n",
    "from itertools import product"
   ]
  },
  {
   "cell_type": "code",
   "execution_count": 2,
   "metadata": {
    "collapsed": false
   },
   "outputs": [],
   "source": [
    "from perceptron_model import Model\n",
    "from grid_search import grid_search\n",
    "from data_extract import extract_data"
   ]
  },
  {
   "cell_type": "code",
   "execution_count": 3,
   "metadata": {
    "collapsed": false
   },
   "outputs": [
    {
     "name": "stdout",
     "output_type": "stream",
     "text": [
      "(124, 17) (124, 1)\n"
     ]
    }
   ],
   "source": [
    "# Monk file 1\n",
    "\n",
    "features, labels = extract_data(1, 'train')\n",
    "features_test, labels_test = extract_data(1, 'test')\n",
    "labels=labels.reshape((labels.shape[0],1))\n",
    "labels_test=labels_test.reshape((labels_test.shape[0],1))\n",
    "\n",
    "print(features.shape, labels.shape)"
   ]
  },
  {
   "cell_type": "code",
   "execution_count": 4,
   "metadata": {
    "collapsed": false
   },
   "outputs": [],
   "source": [
    "# self.label_threshold = treshold\n",
    "# self.new_epoch_notification = new_epoch_notification\n",
    "\n",
    "default_parameters={\n",
    "    'structure':[17,5,1],\n",
    "    'seed':0,\n",
    "    'activation':'sigm',\n",
    "    'epochs':1000,\n",
    "    'eta':0.4,\n",
    "    'lamda':0.0,\n",
    "    'loss':\"MSE\",\n",
    "    'alpha':0.9,\n",
    "    'initialization':'xav',\n",
    "    'regression':False,\n",
    "    'early_stopping':True,\n",
    "    'tolerance':1e-3,\n",
    "    'patience':20\n",
    "}\n",
    "\n",
    "parameter_grid_search={\n",
    "    'structure':[[17,4,1], [17,16,1]],\n",
    "    #'structure':[[17,4,1],[17,10,1],[17,16,1]],\n",
    "    #'activation':['sigm', 'relu', 'tanh'],\n",
    "    'activation':['sigm'],\n",
    "    #'eta':[0.1, 0.2, 0.3, 0.5, 0.7],\n",
    "    'eta':[0.1,0.2],\n",
    "    'lamda':[0.001,0.01],\n",
    "    'alpha':[0.2, 0.5],\n",
    "    #'alpha':[0.2, 0.5, 0.7, 0.9],\n",
    "    'initialization':['xav']\n",
    "#     'epochs':[300, 500]\n",
    "}"
   ]
  },
  {
   "cell_type": "code",
   "execution_count": 5,
   "metadata": {
    "collapsed": false
   },
   "outputs": [
    {
     "name": "stdout",
     "output_type": "stream",
     "text": [
      "iteration 23/1000       15/16\r"
     ]
    }
   ],
   "source": [
    "best_params=grid_search(default_parameters, parameter_grid_search, features, labels, validation_split=0.3, log=False, top_n=5)\n",
    "#A = Model([3, 17, 5, 1], 0.005, 0.01, 0.01, 2000, 'sigm', 'xav', 3, 'MSE', 0.5, False, False, False, True)"
   ]
  },
  {
   "cell_type": "code",
   "execution_count": 6,
   "metadata": {
    "collapsed": false
   },
   "outputs": [
    {
     "data": {
      "text/plain": [
       "[{'mean_training_loss': 0.021218703781806528,\n",
       "  'mean_validation_loss': 0.10321753480784124,\n",
       "  'params': {'activation': 'sigm',\n",
       "   'alpha': 0.5,\n",
       "   'eta': 0.1,\n",
       "   'initialization': 'xav',\n",
       "   'lamda': 0.001,\n",
       "   'structure': [17, 16, 1]}},\n",
       " {'mean_training_loss': 0.02567225728993097,\n",
       "  'mean_validation_loss': 0.1128785026003706,\n",
       "  'params': {'activation': 'sigm',\n",
       "   'alpha': 0.2,\n",
       "   'eta': 0.1,\n",
       "   'initialization': 'xav',\n",
       "   'lamda': 0.001,\n",
       "   'structure': [17, 16, 1]}},\n",
       " {'mean_training_loss': 0.027464495123255883,\n",
       "  'mean_validation_loss': 0.11799738404259233,\n",
       "  'params': {'activation': 'sigm',\n",
       "   'alpha': 0.2,\n",
       "   'epochs': 833,\n",
       "   'eta': 0.2,\n",
       "   'initialization': 'xav',\n",
       "   'lamda': 0.001,\n",
       "   'structure': [17, 16, 1]}},\n",
       " {'mean_training_loss': 0.03519258796162531,\n",
       "  'mean_validation_loss': 0.12655257382587592,\n",
       "  'params': {'activation': 'sigm',\n",
       "   'alpha': 0.5,\n",
       "   'epochs': 632,\n",
       "   'eta': 0.1,\n",
       "   'initialization': 'xav',\n",
       "   'lamda': 0.01,\n",
       "   'structure': [17, 16, 1]}},\n",
       " {'mean_training_loss': 0.03868620114844091,\n",
       "  'mean_validation_loss': 0.13260435059659323,\n",
       "  'params': {'activation': 'sigm',\n",
       "   'alpha': 0.2,\n",
       "   'epochs': 711,\n",
       "   'eta': 0.1,\n",
       "   'initialization': 'xav',\n",
       "   'lamda': 0.01,\n",
       "   'structure': [17, 16, 1]}}]"
      ]
     },
     "execution_count": 6,
     "metadata": {},
     "output_type": "execute_result"
    }
   ],
   "source": [
    "best_params"
   ]
  },
  {
   "cell_type": "code",
   "execution_count": 7,
   "metadata": {
    "collapsed": false
   },
   "outputs": [
    {
     "data": {
      "text/plain": [
       "({'activation': 'sigm',\n",
       "  'alpha': 0.5,\n",
       "  'eta': 0.1,\n",
       "  'initialization': 'xav',\n",
       "  'lamda': 0.001,\n",
       "  'structure': [17, 16, 1]},\n",
       " {'activation': 'sigm',\n",
       "  'alpha': 0.9,\n",
       "  'early_stopping': False,\n",
       "  'epochs': 1000,\n",
       "  'eta': 0.4,\n",
       "  'initialization': 'xav',\n",
       "  'lamda': 0.0,\n",
       "  'loss': 'MSE',\n",
       "  'patience': 20,\n",
       "  'regression': False,\n",
       "  'seed': 0,\n",
       "  'structure': [17, 5, 1],\n",
       "  'tolerance': 0.001})"
      ]
     },
     "execution_count": 7,
     "metadata": {},
     "output_type": "execute_result"
    }
   ],
   "source": [
    "best_param=best_params[0]['params']\n",
    "default_parameters['early_stopping']=False\n",
    "best_param, default_parameters"
   ]
  },
  {
   "cell_type": "code",
   "execution_count": 8,
   "metadata": {
    "collapsed": false
   },
   "outputs": [
    {
     "name": "stdout",
     "output_type": "stream",
     "text": [
      "iteration 1000/1000\r"
     ]
    }
   ],
   "source": [
    "y=Model(**default_parameters)\n",
    "y.set_params(**best_param)\n",
    "y.fit(features, labels)"
   ]
  },
  {
   "cell_type": "code",
   "execution_count": 9,
   "metadata": {
    "collapsed": false
   },
   "outputs": [
    {
     "name": "stdout",
     "output_type": "stream",
     "text": [
      "[]\n"
     ]
    },
    {
     "data": {
      "image/png": "[encoded data removed]",
      "text/plain": [
       "<Figure size 432x288 with 1 Axes>"
      ]
     },
     "metadata": {},
     "output_type": "display_data"
    },
    {
     "data": {
      "image/png": "[encoded data removed]",
      "text/plain": [
       "<Figure size 432x288 with 1 Axes>"
      ]
     },
     "metadata": {},
     "output_type": "display_data"
    }
   ],
   "source": [
    "fig, ax = plt.subplots()\n",
    "ax.plot(y.losses, c='b')\n",
    "print(y.validation_losses)\n",
    "ax.plot(y.validation_losses, c='r')\n",
    "plt.show()\n",
    "fig1, ax1 = plt.subplots()\n",
    "ax1.plot(y.accuracies, c='b')\n",
    "ax1.plot(y.validation_losses, c='r')\n",
    "plt.show()"
   ]
  },
  {
   "cell_type": "code",
   "execution_count": null,
   "metadata": {
    "collapsed": true
   },
   "outputs": [],
   "source": []
  }
 ],
 "metadata": {
  "kernelspec": {
   "display_name": "Python 3",
   "language": "python",
   "name": "python3"
  },
  "language_info": {
   "codemirror_mode": {
    "name": "ipython",
    "version": 3
   },
   "file_extension": ".py",
   "mimetype": "text/x-python",
   "name": "python",
   "nbconvert_exporter": "python",
   "pygments_lexer": "ipython3",
   "version": "3.6.0"
  }
 },
 "nbformat": 4,
 "nbformat_minor": 2
}
